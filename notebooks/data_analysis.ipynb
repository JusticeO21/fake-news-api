{
 "cells": [
  {
   "cell_type": "code",
   "execution_count": 1,
   "id": "1310337d-130f-443c-9450-2421655a9166",
   "metadata": {},
   "outputs": [],
   "source": [
    "import pandas as pd\n",
    "import seaborn as sns\n",
    "import spacy\n",
    "import re\n",
    "from collections import Counter\n",
    "import matplotlib.pyplot as plt\n",
    "from spacytextblob.spacytextblob import SpacyTextBlob"
   ]
  },
  {
   "cell_type": "markdown",
   "id": "29ca8195-37b5-45a2-8247-dfa3812a844a",
   "metadata": {},
   "source": [
    "## Load and Inspect the Dataset (Overview of the data)"
   ]
  },
  {
   "cell_type": "code",
   "execution_count": 3,
   "id": "75906243-0eb1-4be5-a194-ccfeb55a9f87",
   "metadata": {},
   "outputs": [
    {
     "name": "stdout",
     "output_type": "stream",
     "text": [
      "<class 'pandas.core.frame.DataFrame'>\n",
      "RangeIndex: 198 entries, 0 to 197\n",
      "Data columns (total 4 columns):\n",
      " #   Column           Non-Null Count  Dtype \n",
      "---  ------           --------------  ----- \n",
      " 0   title            198 non-null    object\n",
      " 1   text             198 non-null    object\n",
      " 2   date             198 non-null    object\n",
      " 3   fake_or_factual  198 non-null    object\n",
      "dtypes: object(4)\n",
      "memory usage: 6.3+ KB\n",
      "None\n"
     ]
    },
    {
     "data": {
      "text/html": [
       "<div>\n",
       "<style scoped>\n",
       "    .dataframe tbody tr th:only-of-type {\n",
       "        vertical-align: middle;\n",
       "    }\n",
       "\n",
       "    .dataframe tbody tr th {\n",
       "        vertical-align: top;\n",
       "    }\n",
       "\n",
       "    .dataframe thead th {\n",
       "        text-align: right;\n",
       "    }\n",
       "</style>\n",
       "<table border=\"1\" class=\"dataframe\">\n",
       "  <thead>\n",
       "    <tr style=\"text-align: right;\">\n",
       "      <th></th>\n",
       "      <th>title</th>\n",
       "      <th>text</th>\n",
       "      <th>date</th>\n",
       "      <th>fake_or_factual</th>\n",
       "    </tr>\n",
       "  </thead>\n",
       "  <tbody>\n",
       "    <tr>\n",
       "      <th>0</th>\n",
       "      <td>HOLLYWEIRD LIB SUSAN SARANDON Compares Muslim ...</td>\n",
       "      <td>There are two small problems with your analogy...</td>\n",
       "      <td>Dec 30, 2015</td>\n",
       "      <td>Fake News</td>\n",
       "    </tr>\n",
       "    <tr>\n",
       "      <th>1</th>\n",
       "      <td>Elijah Cummings Called Trump Out To His Face ...</td>\n",
       "      <td>Buried in Trump s bonkers interview with New Y...</td>\n",
       "      <td>April 6, 2017</td>\n",
       "      <td>Fake News</td>\n",
       "    </tr>\n",
       "    <tr>\n",
       "      <th>2</th>\n",
       "      <td>Hillary Clinton Says Half Her Cabinet Will Be...</td>\n",
       "      <td>Women make up over 50 percent of this country,...</td>\n",
       "      <td>April 26, 2016</td>\n",
       "      <td>Fake News</td>\n",
       "    </tr>\n",
       "    <tr>\n",
       "      <th>3</th>\n",
       "      <td>Russian bombing of U.S.-backed forces being di...</td>\n",
       "      <td>WASHINGTON (Reuters) - U.S. Defense Secretary ...</td>\n",
       "      <td>September 18, 2017</td>\n",
       "      <td>Factual News</td>\n",
       "    </tr>\n",
       "    <tr>\n",
       "      <th>4</th>\n",
       "      <td>Britain says window to restore Northern Irelan...</td>\n",
       "      <td>BELFAST (Reuters) - Northern Ireland s politic...</td>\n",
       "      <td>September 4, 2017</td>\n",
       "      <td>Factual News</td>\n",
       "    </tr>\n",
       "  </tbody>\n",
       "</table>\n",
       "</div>"
      ],
      "text/plain": [
       "                                               title  \\\n",
       "0  HOLLYWEIRD LIB SUSAN SARANDON Compares Muslim ...   \n",
       "1   Elijah Cummings Called Trump Out To His Face ...   \n",
       "2   Hillary Clinton Says Half Her Cabinet Will Be...   \n",
       "3  Russian bombing of U.S.-backed forces being di...   \n",
       "4  Britain says window to restore Northern Irelan...   \n",
       "\n",
       "                                                text                 date  \\\n",
       "0  There are two small problems with your analogy...         Dec 30, 2015   \n",
       "1  Buried in Trump s bonkers interview with New Y...        April 6, 2017   \n",
       "2  Women make up over 50 percent of this country,...       April 26, 2016   \n",
       "3  WASHINGTON (Reuters) - U.S. Defense Secretary ...  September 18, 2017    \n",
       "4  BELFAST (Reuters) - Northern Ireland s politic...   September 4, 2017    \n",
       "\n",
       "  fake_or_factual  \n",
       "0       Fake News  \n",
       "1       Fake News  \n",
       "2       Fake News  \n",
       "3    Factual News  \n",
       "4    Factual News  "
      ]
     },
     "execution_count": 3,
     "metadata": {},
     "output_type": "execute_result"
    }
   ],
   "source": [
    "df = pd.read_csv(\"../data/2. fake_news_data.csv\");\n",
    "print(df.info())\n",
    "df.head()"
   ]
  },
  {
   "cell_type": "code",
   "execution_count": 4,
   "id": "6ef1ae1a-a27e-43f6-8c01-ec38bba0437e",
   "metadata": {},
   "outputs": [
    {
     "name": "stdout",
     "output_type": "stream",
     "text": [
      "duplicates:  0\n"
     ]
    },
    {
     "data": {
      "text/plain": [
       "Text(0.5, 1.0, 'counts of article classification')"
      ]
     },
     "execution_count": 4,
     "metadata": {},
     "output_type": "execute_result"
    },
    {
     "data": {
      "image/png": "[encoded data removed]",
      "text/plain": [
       "<Figure size 640x480 with 1 Axes>"
      ]
     },
     "metadata": {},
     "output_type": "display_data"
    }
   ],
   "source": [
    "print(\"duplicates: \", df.duplicated().sum())\n",
    "sns.countplot(x = df[\"fake_or_factual\"], color = \"cyan\")\n",
    "plt.title(\"counts of article classification\")"
   ]
  },
  {
   "cell_type": "markdown",
   "id": "fd3c38a6-efd0-443f-859a-936ed60106f9",
   "metadata": {},
   "source": [
    "### We have a balanced dataset"
   ]
  },
  {
   "cell_type": "markdown",
   "id": "02a309ac-f681-46f7-a150-8d876e78665c",
   "metadata": {},
   "source": [
    "## Compare News Lengths"
   ]
  },
  {
   "cell_type": "code",
   "execution_count": 5,
   "id": "ecafd6f1-33a4-4997-900d-8b60b99094ea",
   "metadata": {},
   "outputs": [
    {
     "data": {
      "text/plain": [
       "Text(0.5, 1.0, 'Lengths of Fake news')"
      ]
     },
     "execution_count": 5,
     "metadata": {},
     "output_type": "execute_result"
    },
    {
     "data": {
      "image/png": "[encoded data removed]",
      "text/plain": [
       "<Figure size 640x480 with 1 Axes>"
      ]
     },
     "metadata": {},
     "output_type": "display_data"
    }
   ],
   "source": [
    "df[\"text_lenght\"] = df[\"text\"].map(len)\n",
    "sns.histplot(x = \"text_lenght\", data = df.loc[df[\"fake_or_factual\"] == \"Fake News\"], bins=20, color=\"cyan\")\n",
    "plt.title(\"Lengths of Fake news\")"
   ]
  },
  {
   "cell_type": "code",
   "execution_count": 6,
   "id": "d6f86c7a-1d10-456f-a84b-27ce7b7d7ee7",
   "metadata": {},
   "outputs": [
    {
     "data": {
      "text/plain": [
       "Text(0.5, 1.0, 'Lengths of Factual/Real news')"
      ]
     },
     "execution_count": 6,
     "metadata": {},
     "output_type": "execute_result"
    },
    {
     "data": {
      "image/png": "[encoded data removed]",
      "text/plain": [
       "<Figure size 640x480 with 1 Axes>"
      ]
     },
     "metadata": {},
     "output_type": "display_data"
    }
   ],
   "source": [
    "sns.histplot(x = \"text_lenght\", data = df.loc[df[\"fake_or_factual\"] == \"Factual News\"], bins=20, color=\"cyan\")\n",
    "plt.title(\"Lengths of Factual/Real news\")"
   ]
  },
  {
   "cell_type": "markdown",
   "id": "cce0513c-83df-45a0-beb6-a6bb21c5d9ae",
   "metadata": {},
   "source": [
    "### Observation:\n",
    "- The average length of fake news articles is slightly shorter than that of factual news articles.\n",
    "- Although the difference is not substantial, this might suggest that fake news tends to be more concise or simplified.\n",
    "- This insight can help us understand text characteristics and might be useful for feature engineering later."
   ]
  },
  {
   "cell_type": "markdown",
   "id": "39c2e732-439a-44d8-a12b-8826c0a14c01",
   "metadata": {},
   "source": [
    "### Observations on Word Frequencies"
   ]
  },
  {
   "cell_type": "code",
   "execution_count": null,
   "id": "9b0fb2b7-81ab-4aa2-8768-a475de16acdb",
   "metadata": {},
   "outputs": [],
   "source": [
    "def plot_words (words):\n",
    "    plt.figure(figsize=(10,6))\n",
    "    sns.barplot(\n",
    "    x=\"count\", \n",
    "    y=\"word\", \n",
    "    data=words,\n",
    "        color=\"cyan\",\n",
    "    )\n",
    "    plt.title(\"Top Words Frequency\")\n",
    "    plt.xlabel(\"Frequency\")\n",
    "    plt.ylabel(\"Word\")\n",
    "    plt.show()\n"
   ]
  },
  {
   "cell_type": "code",
   "execution_count": null,
   "id": "8db5c49c-1d38-404d-99d8-0490e2c3918d",
   "metadata": {},
   "outputs": [],
   "source": [
    "factual_news = df.loc[df[\"fake_or_factual\"] == \"Factual News\"][\"text\"].sum().split();\n",
    "factual_words = pd.DataFrame(Counter(factual_news).most_common(20), columns=[\"word\", \"count\"]);\n",
    "plot_words(factual_words)"
   ]
  },
  {
   "cell_type": "code",
   "execution_count": null,
   "id": "898bde51-da97-418b-ac36-ceb51634da0a",
   "metadata": {},
   "outputs": [],
   "source": [
    "fake_news = df.loc[df[\"fake_or_factual\"] == \"Fake News\"][\"text\"].sum().split();\n",
    "fake_words_df = pd.DataFrame(Counter(fake_news).most_common(20), columns =[\"word\", \"count\"])\n",
    "plot_words(fake_words_df)"
   ]
  },
  {
   "cell_type": "markdown",
   "id": "cd18b4c5-817b-4bb7-9d56-c2da08adfa22",
   "metadata": {},
   "source": [
    "- We compared the frequency of words in fake news versus factual news to check for any noticeable patterns or biases.\n",
    "- The analysis shows that the overall word usage is quite similar between fake and factual news.\n",
    "- There are no strong biases or unique words that distinctly separate fake news from factual news based purely on frequency."
   ]
  },
  {
   "cell_type": "markdown",
   "id": "a0a4b523-ff6b-4e26-b76b-368084b0845b",
   "metadata": {},
   "source": [
    "## POS Tagging"
   ]
  },
  {
   "cell_type": "code",
   "execution_count": null,
   "id": "df64183e-ba08-4110-92fa-153a4385569f",
   "metadata": {},
   "outputs": [],
   "source": [
    "# Data Cleaning\n",
    "# Removed prefixes before the first dash to focus on main content.\n",
    "# Converted text to lowercase and removed punctuation.\n",
    "nlp = spacy.load(\"en_core_web_sm\");\n",
    "\n",
    "def get_lemma_no_stop(doc):\n",
    "    return [token.lemma_ for token in doc if not token.is_stop]\n",
    "\n",
    "def get_pos_no_stop(doc):\n",
    "    return [token.pos_ for token in doc if not token.is_stop]\n",
    "\n",
    "def plot_pos_tags(pos, title = \"POS Distribution in Factual News\"):\n",
    "    factual_pos_list = [pos for sublist in factual_pos for pos in sublist]\n",
    "    pos_counts = Counter(factual_pos_list)\n",
    "\n",
    "    plt.figure(figsize=(10,6))\n",
    "    sns.barplot(x=list(pos_counts.keys()), y=list(pos_counts.values()))\n",
    "    plt.title(title)\n",
    "    plt.show()\n",
    "\n",
    "df[\"text\"] = df[\"text\"].str.replace(r'^.*?-\\s*', '', regex=True);\n",
    "df[\"text_lower\"] = df[\"text\"].map(lambda x : re.sub(r\"[^\\w\\s]\", \"\", x.lower()) );\n",
    "df[\"text_doc\"] = df[\"text_lower\"].map(lambda x : nlp(x))\n",
    "df[\"text_lemma_no_stw\"] = df[\"text_doc\"].apply(get_lemma_no_stop)\n",
    "df[\"text_pos\"] = df[\"text_doc\"].apply(get_pos_no_stop)\n",
    "factual_pos = df[df[\"fake_or_factual\"] == \"Factual News\"][\"text_pos\"]\n",
    "\n",
    "plot_pos_tags(factual_pos)"
   ]
  },
  {
   "cell_type": "code",
   "execution_count": null,
   "id": "3a87d867-e4d6-4366-b3be-79e3e51f1435",
   "metadata": {},
   "outputs": [],
   "source": [
    "fake_pos = df[df[\"fake_or_factual\"] == \"Fake News\"][\"text_pos\"]\n",
    "plot_pos_tags(fake_pos, title = \"POS Distribution in Fake News\")"
   ]
  },
  {
   "cell_type": "markdown",
   "id": "43798d30-c8ba-42bc-97b9-d38c0b67a781",
   "metadata": {},
   "source": [
    "### Observation\n",
    "The distribution of POS tags (such as nouns, verbs, adjectives, and adverbs) appeared relatively similar across both classes.\n",
    "This indicates that syntactic structure alone may not be a strong distinguishing factor for identifying fake news."
   ]
  },
  {
   "cell_type": "markdown",
   "id": "b8787a6d-14e7-48a1-a1ef-0a1ae406114d",
   "metadata": {},
   "source": [
    "## SENTIMENT ANALYSIS"
   ]
  },
  {
   "cell_type": "code",
   "execution_count": null,
   "id": "46bbdaaf-0ab3-4677-a709-5b34a6eb6c32",
   "metadata": {},
   "outputs": [],
   "source": [
    "# nlp.add_pipe('spacytextblob')\n",
    "\n",
    "def get_sentiment(text):\n",
    "    doc =  nlp(text);\n",
    "    if doc._.blob.polarity > 0 :\n",
    "        return \"positive\";\n",
    "    elif doc._.blob.polarity < 0 : \n",
    "        return \"negative\";\n",
    "    return \"neutral\"\n",
    "\n",
    "def analyze_sentiment(df: pd.DataFrame, label_col: str, text_col: str, label_value: str):\n",
    "    subset = df[df[label_col] == label_value].copy()\n",
    "    subset[\"joined_text\"] = subset[text_col].map(lambda x: \" \".join(x) if isinstance(x, list) else str(x))\n",
    "    subset[\"sentiment\"] = subset[\"joined_text\"].map(get_sentiment)\n",
    "    \n",
    "    plt.figure(figsize=(6, 4))\n",
    "    sns.countplot(x=subset[\"sentiment\"])\n",
    "    plt.title(f\"Sentiment Distribution for {label_value}\")\n",
    "    plt.xlabel(\"Sentiment\")\n",
    "    plt.ylabel(\"Count\")\n",
    "    plt.show()\n",
    "    \n",
    "    return subset\n",
    "\n",
    "fake_sentiment_df = analyze_sentiment(df, \"fake_or_factual\", \"text_lemma_no_stw\", \"Fake News\")\n",
    "factual_sentiment_df = analyze_sentiment(df, \"fake_or_factual\", \"text_lemma_no_stw\", \"Factual News\")\n"
   ]
  },
  {
   "cell_type": "markdown",
   "id": "c0174b4f-b961-4e40-a36f-1cc0bb998b94",
   "metadata": {},
   "source": [
    "### Observation\n",
    "The sentiment analysis revealed that both factual and fake news articles exhibit a similar distribution of positive, negative, and neutral sentiments. This indicates that emotional tone or sentiment polarity alone is not a strong distinguishing factor between the two categories."
   ]
  },
  {
   "cell_type": "markdown",
   "id": "cb54828a-e2a2-4211-b877-3ec320aa6099",
   "metadata": {},
   "source": [
    "## CONCLUSION\n",
    "\n",
    "The primary objective of this analysis was to determine whether linguistic or structural patterns could be identified between fake and factual news articles prior to model development. Through a series of exploratory steps including text length comparison, word frequency analysis, POS tagging, and sentiment evaluation, we observed that both categories exhibit strong similarities in word usage, grammatical patterns, and overall sentiment distribution.\n",
    "\n",
    "These findings indicate that distinguishing fake from factual news based solely on linguistic features is challenging. As a result, we decided to train classification models such as Logistic Regression and Naive Bayes, which are capable of learning deeper, statistical distinctions within the data that may not be easily visible through direct observation.\n",
    "\n",
    "The insights from this analysis directly informed the development of our Fake News Detection model, designed to automatically classify news content as fake or factual with improved accuracy and reliability."
   ]
  },
  {
   "cell_type": "code",
   "execution_count": null,
   "id": "fd678c43-d235-4d82-8d64-ed1c07eccce1",
   "metadata": {},
   "outputs": [],
   "source": [
    "df[[\"text_lower\", \"fake_or_factual\"]].to_csv(\"pre_processed_fake_news.csv\", index = False)"
   ]
  }
 ],
 "metadata": {
  "kernelspec": {
   "display_name": "Python [conda env:base] *",
   "language": "python",
   "name": "conda-base-py"
  },
  "language_info": {
   "codemirror_mode": {
    "name": "ipython",
    "version": 3
   },
   "file_extension": ".py",
   "mimetype": "text/x-python",
   "name": "python",
   "nbconvert_exporter": "python",
   "pygments_lexer": "ipython3",
   "version": "3.13.5"
  }
 },
 "nbformat": 4,
 "nbformat_minor": 5
}
